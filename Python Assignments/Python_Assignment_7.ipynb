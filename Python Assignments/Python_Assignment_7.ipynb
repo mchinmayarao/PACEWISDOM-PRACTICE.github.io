{
 "cells": [
  {
   "cell_type": "markdown",
   "metadata": {},
   "source": [
    "# Classes"
   ]
  },
  {
   "cell_type": "code",
   "execution_count": 43,
   "metadata": {},
   "outputs": [],
   "source": [
    "# 1) Write a python class to convert an integer into a roman numeral and viceversa\n",
    "class RomanIntegerConverter():\n",
    "     romansDict = {\n",
    "            1: \"I\",\n",
    "            5: \"V\",\n",
    "            10: \"X\",\n",
    "            50: \"L\",\n",
    "            100: \"C\",\n",
    "            500: \"D\",\n",
    "            1000: \"M\",\n",
    "            5000: \"G\",\n",
    "            10000: \"H\"\n",
    "        }\n",
    " "
   ]
  },
  {
   "cell_type": "code",
   "execution_count": 44,
   "metadata": {},
   "outputs": [
    {
     "name": "stdout",
     "output_type": "stream",
     "text": [
      "False\n"
     ]
    }
   ],
   "source": [
    "# 2) Write a Python class to find validity of a string of parentheses, '(', ')', '{', '}', '[' and ']. These brackets must be close in the correct order, for example \"()\" and \"()[]{}\" are valid but \"[)\", \"({[)]\" and \"{{{\" are invalid. \n",
    "\n",
    "class Validatior():\n",
    "    def __init__(self) -> None:\n",
    "        self.stack = []\n",
    "        self.maps = {')':'(' , ']':'[' , '}':'{'}\n",
    "\n",
    "    def isValid(self,string):\n",
    "        for s in string:\n",
    "            if s in self.maps.values():\n",
    "                self.stack.append(s)\n",
    "            elif self.stack[-1] == self.maps[s]:\n",
    "                self.stack.pop()\n",
    "\n",
    "        return False if len(self.stack)!=0 else True\n",
    "    \n",
    "\n",
    "\n",
    "validator = Validatior()\n",
    "parentheses = \"()[{}\"\n",
    "vv = validator.isValid(parentheses)\n",
    "print(vv)\n",
    "\n",
    "\n"
   ]
  },
  {
   "cell_type": "code",
   "execution_count": 50,
   "metadata": {},
   "outputs": [
    {
     "name": "stdout",
     "output_type": "stream",
     "text": [
      "[[4, 5, 6], [4, 5], [4, 6], [4], [5, 6], [5], [6], []]\n"
     ]
    }
   ],
   "source": [
    "# 3) Write a Python class to get all possible unique subsets from a set of distinct integers Input : [4, 5, 6] Output : [[], [6], [5], [5, 6], [4], [4, 6], [4, 5], [4, 5, 6]] \n",
    "\n",
    "class UniqueSubset():\n",
    "\n",
    "\n",
    "    def getSubset(self,array):\n",
    "        res = []\n",
    "        sub = []\n",
    "        def generate(i):\n",
    "            if i>=len(array):\n",
    "                res.append(sub.copy())\n",
    "                return\n",
    "            sub.append(array[i])\n",
    "            generate(i+1)\n",
    "            sub.pop()\n",
    "            generate(i+1)\n",
    "\n",
    "        generate(0)\n",
    "        return res\n",
    "\n",
    "u = UniqueSubset()\n",
    "\n",
    "result = u.getSubset([4,5,6])\n",
    "\n",
    "print(result)"
   ]
  },
  {
   "cell_type": "code",
   "execution_count": 46,
   "metadata": {},
   "outputs": [
    {
     "name": "stdout",
     "output_type": "stream",
     "text": [
      "(3, 4)\n"
     ]
    }
   ],
   "source": [
    "# 4) Write a Python class to find a pair of elements (indices of the two numbers) from a given array whose sum equals a specific target number. Note: There will be one solution for each input and do not use the same element twice. Input: numbers= [90, 20,10,40,50,60,70], target=50 Output: 3, 4 \n",
    "\n",
    "class PairOfElements():\n",
    "    def __init__(self,array) -> None:\n",
    "        self.array = array\n",
    "        self.arrayLength = len(self.array)\n",
    "    \n",
    "    def getPair(self,target):\n",
    "        for i in range(self.arrayLength):\n",
    "            for j in range(i+1,self.arrayLength):\n",
    "                if self.array[i]+self.array[j] == target:\n",
    "                    return i+1,j+1\n",
    "                \n",
    "        return None\n",
    "\n",
    "\n",
    "    # def getPair(self,target):\n",
    "    #     p1,p2 = 0 , len(self.array)-1\n",
    "    #     arr = sorted(self.array)\n",
    "    #     while p1<p2:\n",
    "    #         sum = arr[p1] + arr[p2]\n",
    "    #         if  sum == target:\n",
    "    #             return self.array.index(arr[p1]) , self.array.index(arr[p2])\n",
    "    #         elif sum<target:\n",
    "    #             p1 = p1+1\n",
    "    #         else:\n",
    "    #             p2 = p2-1\n",
    "    #     return None\n",
    "    \n",
    "obj = PairOfElements([90, 20,10,40,50,60,70])\n",
    "\n",
    "pairs = obj.getPair(50)\n",
    "\n",
    "print(pairs)\n"
   ]
  },
  {
   "cell_type": "code",
   "execution_count": 49,
   "metadata": {},
   "outputs": [
    {
     "name": "stdout",
     "output_type": "stream",
     "text": [
      "[[-10, 2, 8], [-7, -3, 10]]\n"
     ]
    }
   ],
   "source": [
    "# 5) Write a Python class to find the three elements that sum to zero from a set of n real numbers. Input array : [-25, -10, -7, -3, 2, 4, 8, 10] Output : [[-10, 2, 8], [-7, -3, 10]] \n",
    "\n",
    "class Sum_2_Zero():\n",
    "    def __init__(self,array) -> None:\n",
    "        self.array = array\n",
    "\n",
    "    \n",
    "\n",
    "    def findElements(self):\n",
    "        res = []\n",
    "        self.array.sort()\n",
    "\n",
    "        for i, a in enumerate(self.array):\n",
    "            #if a >0 it means that there are no -ve elements in the array coz we have sorted the array\n",
    "            if a > 0:\n",
    "                break\n",
    "\n",
    "            if i > 0 and a == self.array[i - 1]:\n",
    "                continue\n",
    "\n",
    "            l, r = i + 1, len(self.array) - 1\n",
    "            while l < r:\n",
    "                threeSum = a + self.array[l] + self.array[r]\n",
    "                if threeSum > 0:\n",
    "                    r -= 1\n",
    "                elif threeSum < 0:\n",
    "                    l += 1\n",
    "                else:\n",
    "                    res.append([a, self.array[l], self.array[r]])\n",
    "                    l += 1\n",
    "                    r -= 1\n",
    "                    while self.array[l] == self.array[l - 1] and l < r:\n",
    "                        l += 1\n",
    "                        \n",
    "        return res\n",
    "    \n",
    "obj = Sum_2_Zero([-25, -10, -7, -3, 2, 4, 8, 10])\n",
    "\n",
    "result = obj.findElements()\n",
    "\n",
    "print(result)\n"
   ]
  },
  {
   "cell_type": "code",
   "execution_count": 53,
   "metadata": {},
   "outputs": [
    {
     "name": "stdout",
     "output_type": "stream",
     "text": [
      "512\n"
     ]
    }
   ],
   "source": [
    "# 6) Write a Python class to implement pow(x, n) \n",
    "\n",
    "class PowImplementor():\n",
    "    def pow(self,x,n):\n",
    "        p = 1\n",
    "        for _ in range(n):\n",
    "            p*=x\n",
    "        return p\n",
    "    \n",
    "obj = PowImplementor()\n",
    "print(obj.pow(2,9))"
   ]
  },
  {
   "cell_type": "code",
   "execution_count": 66,
   "metadata": {},
   "outputs": [
    {
     "name": "stdout",
     "output_type": "stream",
     "text": [
      ".py hello\n"
     ]
    }
   ],
   "source": [
    "# 7) Write a Python class to reverse a string word by word. \n",
    "# Input string : 'hello .py' Expected Output : '.py hello' \n",
    "\n",
    "class String():\n",
    "    def __init__(self,string) -> None:\n",
    "        self.string = string\n",
    "\n",
    "    def reverseByWord(self):\n",
    "        temp = self.string.split(' ')\n",
    "        temp.reverse()\n",
    "        return ' '.join(temp)\n",
    "    \n",
    "obj = String('hello .py')\n",
    "\n",
    "\n",
    "\n",
    "print(obj.reverseByWord())"
   ]
  },
  {
   "cell_type": "code",
   "execution_count": 73,
   "metadata": {},
   "outputs": [
    {
     "name": "stdout",
     "output_type": "stream",
     "text": [
      "gniod uoy era tahw\n"
     ]
    }
   ],
   "source": [
    "# 8) Write a python class which has 2 methods get_string and print_string. get_string takes a string from the user and print_string prints the string in reverse order \n",
    "\n",
    "class String():\n",
    "\n",
    "    def get_string(self):\n",
    "        self.string = input(\"enter the string\")\n",
    "    def print_string(self):\n",
    "        rev = [*self.string]\n",
    "        rev.reverse()\n",
    "        print(''.join(rev))\n",
    "    \n",
    "obj = String()\n",
    "\n",
    "obj.get_string()\n",
    "obj.print_string()"
   ]
  },
  {
   "cell_type": "code",
   "execution_count": 76,
   "metadata": {},
   "outputs": [
    {
     "name": "stdout",
     "output_type": "stream",
     "text": [
      "area : 50.285714285714285\n",
      "perimeter : 25.142857142857142\n"
     ]
    }
   ],
   "source": [
    "# 9) Write a Python class named Circle constructed by a radius and two methods which will compute the area and the perimeter of a circle. \n",
    "\n",
    "class Circle():\n",
    "    def __init__(self,radius) -> None:\n",
    "        self.radius = radius\n",
    "\n",
    "    def area(self):\n",
    "        return 22/7 * self.radius**2\n",
    "    \n",
    "    def perimeter(self):\n",
    "        return 22/7 * 2 * self.radius\n",
    "    \n",
    "c1 = Circle(4)\n",
    "\n",
    "print(f'area : {c1.area()}\\nperimeter : {c1.perimeter()}')"
   ]
  },
  {
   "cell_type": "code",
   "execution_count": 84,
   "metadata": {},
   "outputs": [
    {
     "name": "stdout",
     "output_type": "stream",
     "text": [
      "Dummy1\n",
      "Dummy2\n"
     ]
    }
   ],
   "source": [
    "# 10) Write a Python program to get the class name of an instance in Python.\n",
    "\n",
    "class Dummy1():\n",
    "    def __init__(self) -> None:\n",
    "        pass\n",
    "\n",
    "class Dummy2():\n",
    "    def __init__(self) -> None:\n",
    "        pass\n",
    "d1 = Dummy1()\n",
    "d2 = Dummy2()\n",
    "\n",
    "print(d1.__class__.__name__)\n",
    "\n",
    "print(d2.__class__.__name__)\n"
   ]
  },
  {
   "cell_type": "markdown",
   "metadata": {},
   "source": [
    "# Lambda"
   ]
  },
  {
   "cell_type": "code",
   "execution_count": 85,
   "metadata": {},
   "outputs": [
    {
     "name": "stdout",
     "output_type": "stream",
     "text": [
      "add 15 to 10 : 25\n",
      "multiply 2,7 : 14\n"
     ]
    }
   ],
   "source": [
    "# 1) Write a Python program to create a lambda function that adds 15 to a given number passed in as an argument, also create a lambda function that multiplies argument x with argument y and print the result.\n",
    "#  Sample Output: 25 48 \n",
    "\n",
    "add15 = lambda x:x+15\n",
    "\n",
    "mul = lambda x,y:x*y\n",
    "\n",
    "print(f'add 15 to 10 : {add15(10)}\\nmultiply 2,7 : {mul(2,7)}')"
   ]
  },
  {
   "cell_type": "code",
   "execution_count": 86,
   "metadata": {},
   "outputs": [
    {
     "name": "stdout",
     "output_type": "stream",
     "text": [
      "[('Social sciences', 82), ('English', 88), ('Science', 90), ('Maths', 97)]\n"
     ]
    }
   ],
   "source": [
    "# 2) Write a Python program to sort a list of tuples using Lambda. \n",
    "# Original list of tuples: [('English', 88), ('Science', 90), ('Maths', 97), ('Social sciences', 82)]\n",
    "# Sorting the List of Tuples: [('Social sciences', 82), ('English', 88), ('Science', 90), ('Maths', 97)]\n",
    "\n",
    "tuples= [('English', 88), ('Science', 90), ('Maths', 97), ('Social sciences', 82)]\n",
    "\n",
    "tuples.sort(key=lambda x:x[1])\n",
    "\n",
    "print(tuples)"
   ]
  },
  {
   "cell_type": "code",
   "execution_count": 96,
   "metadata": {},
   "outputs": [
    {
     "name": "stdout",
     "output_type": "stream",
     "text": [
      "[{'make': 'Nokia', 'model': 216, 'color': 'Black'}, {'make': 'Samsung', 'model': 7, 'color': 'Blue'}, {'make': 'Mi Max', 'model': 2, 'color': 'Gold'}]\n"
     ]
    }
   ],
   "source": [
    "#  3) Write a Python program to sort a list of dictionaries using Lambda. \n",
    "# Original list of dictionaries : [{'make': 'Nokia', 'model': 216, 'color': 'Black'}, {'make': 'Mi Max', 'model': '2', 'color': 'Gold'}, {'make': 'Samsung', 'model': 7, 'color': 'Blue'}] \n",
    "# Sorting the List of dictionaries : [{'make': 'Nokia', 'model': 216, 'color': 'Black'}, {'make': 'Samsung', 'model': 7, 'color': 'Blue'}, {'make': 'Mi Max', 'model': '2', 'color': 'Gold'}]\n",
    "\n",
    "dictionaries = [{'make': 'Nokia', 'model': 216, 'color': 'Black'}, {'make': 'Mi Max', 'model': 2, 'color': 'Gold'}, {'make': 'Samsung', 'model': 7, 'color': 'Blue'}]  \n",
    "\n",
    "dictionaries.sort(key=lambda item : -item['model'])\n",
    "\n",
    "print(dictionaries)"
   ]
  },
  {
   "cell_type": "code",
   "execution_count": 97,
   "metadata": {},
   "outputs": [
    {
     "data": {
      "text/plain": [
       "True"
      ]
     },
     "execution_count": 97,
     "metadata": {},
     "output_type": "execute_result"
    }
   ],
   "source": [
    "# 4) Write a Python program to find if a given string starts with a given character using Lambda.\n",
    "startWith = lambda string,s : True if string[0]==s else False\n",
    "\n",
    "startWith('hello' ,'h')"
   ]
  },
  {
   "cell_type": "code",
   "execution_count": 102,
   "metadata": {},
   "outputs": [
    {
     "data": {
      "text/plain": [
       "True"
      ]
     },
     "execution_count": 102,
     "metadata": {},
     "output_type": "execute_result"
    }
   ],
   "source": [
    "# 5) Write a Python program to check whether a given string is number or not using Lambda. \n",
    "\n",
    "checkNum = lambda string : string.isdigit()\n",
    "\n",
    "checkNum(\"3431\")"
   ]
  },
  {
   "cell_type": "code",
   "execution_count": 104,
   "metadata": {},
   "outputs": [
    {
     "name": "stdout",
     "output_type": "stream",
     "text": [
      "[19, 65, 57, 39, 152, 190]\n"
     ]
    }
   ],
   "source": [
    "# 6)  Write a Python program to find numbers divisible by nineteen or thirteen from a list of numbers using Lambda \n",
    "# Orginal list: [19, 65, 57, 39, 152, 639, 121, 44, 90, 190] \n",
    "# Numbers of the above list divisible by nineteen or thirteen: [19, 65, 57, 39, 152, 190] \n",
    "\n",
    "divisible = lambda num : True if num%19==0 or num%13==0 else False\n",
    "\n",
    "list = [19, 65, 57, 39, 152, 639, 121, 44, 90, 190] \n",
    "\n",
    "divisible_19_13 = [ x for x in list if divisible(x)]\n",
    "\n",
    "print(divisible_19_13)\n"
   ]
  },
  {
   "cell_type": "code",
   "execution_count": 107,
   "metadata": {},
   "outputs": [
    {
     "name": "stdout",
     "output_type": "stream",
     "text": [
      "[[1, 1, 1], [1, 2, 3], [2, 4, 5]]\n",
      "[[-2, 4, -5], [1, -1, 1], [1, 2, 3]]\n"
     ]
    }
   ],
   "source": [
    "# 7) Write a Python program to sort a given matrix in ascending order according to the sum of its rows using lambda. \n",
    "# Original Matrix: [[1, 2, 3], [2, 4, 5], [1, 1, 1]] \n",
    "# Sort the said matrix in ascending order according to the sum of its rows [[1, 1, 1], [1, 2, 3], [2, 4, 5]]\n",
    "#  Original Matrix: [[1, 2, 3], [-2, 4, -5], [1, -1, 1]] \n",
    "# Sort the said matrix in ascending order according to the sum of its rows [[-2, 4, -5], [1, -1, 1], [1, 2, 3]] \n",
    "\n",
    "Matrix1 = [[1, 2, 3], [2, 4, 5], [1, 1, 1]] \n",
    "Matrix2 = [[1, 2, 3], [-2, 4, -5], [1, -1, 1]]\n",
    "\n",
    "Matrix1.sort(key=lambda arr : sum(arr))\n",
    "Matrix2.sort(key=lambda arr : sum(arr))\n",
    "\n",
    "print(f'{Matrix1}\\n{Matrix2}')"
   ]
  },
  {
   "cell_type": "code",
   "execution_count": 117,
   "metadata": {},
   "outputs": [
    {
     "name": "stdout",
     "output_type": "stream",
     "text": [
      "PaceWisd0m : True\n",
      "theii3TS : False\n"
     ]
    }
   ],
   "source": [
    "# 8) Write a Python program to check whether a given string contains a capital letter, a lower case letter, a number and a minimum length using lambda. Minimum length : 10 input string: PaceWisd0m o/p: valid string \n",
    "\n",
    "string1 = 'PaceWisd0m'\n",
    "string2 = 'theii3TS'\n",
    "containsLower = lambda string : any(c.islower() for c in string)\n",
    "containsUpper = lambda string : any(c.isupper() for c in string)\n",
    "containsDigit = lambda string : any(c.isdigit() for c in string)\n",
    "minLength = lambda string : True if len(string)>=10 else False\n",
    "\n",
    "check = lambda string : all([containsLower(string) , containsUpper(string) , containsDigit(string) , minLength(string)])\n",
    "\n",
    "print(f'{string1} : {check(string1)}')\n",
    "print(f'{string2} : {check(string2)}')\n"
   ]
  },
  {
   "cell_type": "code",
   "execution_count": 124,
   "metadata": {},
   "outputs": [
    {
     "name": "stdout",
     "output_type": "stream",
     "text": [
      "['black']\n"
     ]
    }
   ],
   "source": [
    "# 9) Write a Python program to find the elements of a given list of strings that contain specific substring using lambda. \n",
    "# Original list: ['red', 'black', 'white', 'green', 'orange'] \n",
    "# Substring to search: ack Elements of the said list that contain specific substring: ['black'] Substring to search: abc Elements of the said list that contain specific substring: [] \n",
    "list =  ['red', 'black', 'white', 'green', 'orange']\n",
    "\n",
    "find = lambda string,search : True if string.rfind(search)>0 else False\n",
    "\n",
    "search = 'ack'\n",
    "result = [item for item in list if find(item,search)]\n",
    "\n",
    "print(result)"
   ]
  },
  {
   "cell_type": "code",
   "execution_count": 128,
   "metadata": {},
   "outputs": [
    {
     "ename": "SyntaxError",
     "evalue": "positional argument follows keyword argument (529841720.py, line 7)",
     "output_type": "error",
     "traceback": [
      "\u001b[0;36m  Cell \u001b[0;32mIn[128], line 7\u001b[0;36m\u001b[0m\n\u001b[0;31m    list.sort(key = lambda x : isinstance(int,str) ,x)\u001b[0m\n\u001b[0m                                                     ^\u001b[0m\n\u001b[0;31mSyntaxError\u001b[0m\u001b[0;31m:\u001b[0m positional argument follows keyword argument\n"
     ]
    }
   ],
   "source": [
    "# 10) Write a Python program to sort a given mixed list of integers and strings using lambda. Numbers must be sorted before strings. \n",
    "# Original list: [19, 'red', 12, 'green', 'blue', 10, 'white', 'green', 1] \n",
    "# Sort the said mixed list of integers and strings: [1, 10, 12, 19, 'blue', 'green', 'green', 'red', 'white']\n",
    "\n",
    "list = [19, 'red', 12, 'green', 'blue', 10, 'white', 'green', 1] \n",
    "\n",
    "list.sort(key = lambda x : )\n",
    "\n",
    "print(list)"
   ]
  },
  {
   "cell_type": "code",
   "execution_count": 127,
   "metadata": {},
   "outputs": [
    {
     "name": "stdout",
     "output_type": "stream",
     "text": [
      "Help on built-in function isinstance in module builtins:\n",
      "\n",
      "isinstance(obj, class_or_tuple, /)\n",
      "    Return whether an object is an instance of a class or of a subclass thereof.\n",
      "\n",
      "    A tuple, as in ``isinstance(x, (A, B, ...))``, may be given as the target to\n",
      "    check against. This is equivalent to ``isinstance(x, A) or isinstance(x, B)\n",
      "    or ...`` etc.\n",
      "\n"
     ]
    }
   ],
   "source": [
    "help(isinstance)"
   ]
  }
 ],
 "metadata": {
  "kernelspec": {
   "display_name": "base",
   "language": "python",
   "name": "python3"
  },
  "language_info": {
   "codemirror_mode": {
    "name": "ipython",
    "version": 3
   },
   "file_extension": ".py",
   "mimetype": "text/x-python",
   "name": "python",
   "nbconvert_exporter": "python",
   "pygments_lexer": "ipython3",
   "version": "3.12.4"
  }
 },
 "nbformat": 4,
 "nbformat_minor": 2
}
