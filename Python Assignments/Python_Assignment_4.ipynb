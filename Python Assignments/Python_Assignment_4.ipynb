{
 "cells": [
  {
   "cell_type": "code",
   "execution_count": 1,
   "metadata": {},
   "outputs": [
    {
     "name": "stdout",
     "output_type": "stream",
     "text": [
      "11\n"
     ]
    }
   ],
   "source": [
    "# 1. Write a Python program to calculate the length of a string.\n",
    "str = 'hello world'\n",
    "print(len(str))"
   ]
  },
  {
   "cell_type": "code",
   "execution_count": 2,
   "metadata": {},
   "outputs": [
    {
     "name": "stdout",
     "output_type": "stream",
     "text": [
      "Counter({'o': 3, 'g': 2, 'l': 1, 'e': 1, '.': 1, 'c': 1, 'm': 1})\n"
     ]
    }
   ],
   "source": [
    "# 2. Write a Python program to count the number of characters (character frequency) in a string. \n",
    "# Sample String : google.com'\n",
    "# Expected Result : {'o': 3, 'g': 2, '.': 1, 'e': 1, 'l': 1, 'm': 1, 'c': 1}\n",
    "\n",
    "from collections import Counter\n",
    "str = 'google.com'\n",
    "char_freq = Counter(str)\n",
    "print(char_freq)"
   ]
  },
  {
   "cell_type": "code",
   "execution_count": 11,
   "metadata": {},
   "outputs": [
    {
     "name": "stdout",
     "output_type": "stream",
     "text": [
      "thisisniceone:thne\n",
      "ab:abab\n",
      "f:\n"
     ]
    }
   ],
   "source": [
    "# 3. Write a Python program to get a string made of the first 2 and the last 2 chars from a given a string. If the string length is less than 2, return instead of the empty string. \n",
    "# Sample String : 'thisisniceone'\n",
    "# Expected Result : 'thne”'\n",
    "# Sample String : 'ab'\n",
    "# Expected Result : 'abab'\n",
    "# Sample String : 'f'\n",
    "# Expected Result : Empty String \n",
    "\n",
    "strings = ['thisisniceone','ab','f']\n",
    "\n",
    "for str in strings:\n",
    "    op = '' if len(str)<2 else str[:2] + str[-2:]\n",
    "    print(f'{str}:{op}')\n"
   ]
  },
  {
   "cell_type": "code",
   "execution_count": 29,
   "metadata": {},
   "outputs": [
    {
     "name": "stdout",
     "output_type": "stream",
     "text": [
      "resta$t\n"
     ]
    }
   ],
   "source": [
    "# 4. Write a Python program to get a string from a given string where all occurrences of its first char have been changed to '$', except the first char itself.\n",
    "# Sample String : 'restart'\n",
    "# Expected Result : 'resta$t'\n",
    "\n",
    "str = 'restart'\n",
    "op = str[0] + str[1:].replace(str[0],'$')\n",
    "print(op)"
   ]
  },
  {
   "cell_type": "code",
   "execution_count": 35,
   "metadata": {},
   "outputs": [
    {
     "name": "stdout",
     "output_type": "stream",
     "text": [
      "xyc abz\n"
     ]
    }
   ],
   "source": [
    "# 5. Write a Python program to get a single string from two given strings, separated by a space and swap the first two characters of each string.\n",
    "# Sample String : 'abc', 'xyz' \n",
    "# Expected Result : 'xyc abz'\n",
    "\n",
    "s1,s2 = 'abc','xyz'\n",
    "\n",
    "str = \" \".join([s2[:2]+s1[2:] , s1[:2]+s2[2:]])\n",
    "\n",
    "print(str)"
   ]
  },
  {
   "cell_type": "code",
   "execution_count": 40,
   "metadata": {},
   "outputs": [
    {
     "name": "stdout",
     "output_type": "stream",
     "text": [
      "abc : abcing\n",
      "string : stringly\n",
      "aa : aa\n"
     ]
    }
   ],
   "source": [
    "# 6. Write a Python program to add 'ing' at the end of a given string (length should be at least 3). If the given string already ends with 'ing' then add 'ly' instead. If the string length of the given string is less than 3, leave it unchanged.\n",
    "# Sample String : 'abc'\n",
    "# Expected Result : 'abcing' \n",
    "# Sample String : 'string'\n",
    "# Expected Result : 'stringly'\n",
    "\n",
    "def manipulation(str):\n",
    "    if len(str)<3:\n",
    "        return str\n",
    "    if str.endswith(\"ing\"):\n",
    "        return str + 'ly'\n",
    "    else:\n",
    "        return str + 'ing'\n",
    "    \n",
    "strings = ['abc','string','aa']\n",
    "\n",
    "for str in strings:\n",
    "    print(f'{str} : {manipulation(str)}')"
   ]
  },
  {
   "cell_type": "code",
   "execution_count": 51,
   "metadata": {},
   "outputs": [
    {
     "name": "stdout",
     "output_type": "stream",
     "text": [
      "The lyrics is not that poor! : The lyrics is good!\n",
      "The lyrics is poor! : The lyrics is poor!\n"
     ]
    }
   ],
   "source": [
    "# 7. Write a Python program to find the first appearance of the substring 'not' and 'poor' from a given string, if 'not' follows the 'poor', replace the whole 'not'...'poor' substring with 'good'. Return the resulting string.\n",
    "# Sample String : 'The lyrics is not that poor!'\n",
    "# 'The lyrics is poor!'\n",
    "# Expected Result : 'The lyrics is good!'\n",
    "# 'The lyrics is poor!'\n",
    "\n",
    "strings = ['The lyrics is not that poor!' , 'The lyrics is poor!']\n",
    "\n",
    "def change_str(str):\n",
    "    not_index = str.find('not')\n",
    "    poor_index = str.find('poor')\n",
    "        \n",
    "    if -1 < not_index < poor_index:\n",
    "        return str[:not_index] + 'good' + str[poor_index+4:]\n",
    "    \n",
    "    return str\n",
    "    \n",
    "\n",
    "for str in strings:\n",
    "    print(f'{str} : {change_str(str)}')"
   ]
  },
  {
   "cell_type": "code",
   "execution_count": 59,
   "metadata": {},
   "outputs": [
    {
     "name": "stdout",
     "output_type": "stream",
     "text": [
      "11\n"
     ]
    }
   ],
   "source": [
    "# 8. Write a Python function that takes a list of words and returns the length of the longest one. \n",
    "words = ['hello','what' , 'areee', 'diuhfuiasdh']\n",
    "\n",
    "# obj = map(lambda s:[len(s),s] , words)\n",
    "\n",
    "\n",
    "len_longest = max(map(lambda s:len(s) , words))\n",
    "\n",
    "print(len_longest)"
   ]
  },
  {
   "cell_type": "code",
   "execution_count": 66,
   "metadata": {},
   "outputs": [
    {
     "name": "stdout",
     "output_type": "stream",
     "text": [
      "hllo\n"
     ]
    }
   ],
   "source": [
    "# 9. Write a Python program to remove the nth index character from a nonempty string.\n",
    "str = 'hello'\n",
    "n = 1\n",
    "\n",
    "s = str[:n] + str[n+1:]\n",
    "\n",
    "print(s)"
   ]
  },
  {
   "cell_type": "code",
   "execution_count": 81,
   "metadata": {},
   "outputs": [
    {
     "name": "stdout",
     "output_type": "stream",
     "text": [
      "['black', 'green', 'red', 'white']\n"
     ]
    }
   ],
   "source": [
    "# 10. Write a Python program that accepts a comma separated sequence of words as input and prints the unique words in sorted form (alphanumerically). \n",
    "# Sample Words : red, white, black, red, green, black\n",
    "# Expected Result : black, green, red, white\n",
    "\n",
    "words = set(map(lambda x:x.strip() , input().split(',')))\n",
    "\n",
    "words = list(words)\n",
    "words.sort()\n",
    "print(words)"
   ]
  },
  {
   "cell_type": "code",
   "execution_count": 89,
   "metadata": {},
   "outputs": [
    {
     "name": "stdout",
     "output_type": "stream",
     "text": [
      "hello : hello\n",
      "what : tahw\n",
      "are : are\n",
      "arthekdl : ldkehtra\n"
     ]
    }
   ],
   "source": [
    "# 11. Write a Python function to reverses a string if it's length is a multiple of 4. \n",
    "\n",
    "\n",
    "strings = ['hello','what','are','arthekdl']\n",
    "\n",
    "def reverse_4(str):\n",
    "    if len(str)%4 == 0:\n",
    "        return str[::-1]\n",
    "    return str\n",
    "\n",
    "for str in strings:\n",
    "    print(f'{str} : {reverse_4(str)}')"
   ]
  },
  {
   "cell_type": "code",
   "execution_count": 101,
   "metadata": {},
   "outputs": [
    {
     "name": "stdout",
     "output_type": "stream",
     "text": [
      "AthdUTN\n"
     ]
    }
   ],
   "source": [
    "# 12. Write a Python function to convert a given string to all uppercase if it contains at least 2 uppercase characters in the first 4 characters.\n",
    "\n",
    "def string_converter(str):\n",
    "    if sum(1 for c in str[:4] if c.isupper()) >=2:\n",
    "        return str.upper()\n",
    "    return str\n",
    "\n",
    "print(string_converter(\"AthdUTN\"))"
   ]
  },
  {
   "cell_type": "code",
   "execution_count": 109,
   "metadata": {},
   "outputs": [
    {
     "name": "stdout",
     "output_type": "stream",
     "text": [
      "True\n"
     ]
    }
   ],
   "source": [
    "# 13. Write a Python program to check whether a string starts with specified characters.\n",
    "\n",
    "op = lambda str,chars : True if str.find(chars) == 0 else False\n",
    "\n",
    "print(op(\"helloworld\" , 'hel'))\n",
    "    "
   ]
  },
  {
   "cell_type": "code",
   "execution_count": 111,
   "metadata": {},
   "outputs": [
    {
     "name": "stdout",
     "output_type": "stream",
     "text": [
      "3.14\n"
     ]
    }
   ],
   "source": [
    "# 14. Write a Python program to print the following floating numbers upto 2 decimal places.\n",
    "# 3.1415926\n",
    "\n",
    "num = 3.1415926\n",
    "print(f'{num:.2f}')"
   ]
  },
  {
   "cell_type": "code",
   "execution_count": 119,
   "metadata": {},
   "outputs": [
    {
     "name": "stdout",
     "output_type": "stream",
     "text": [
      "t 2\n",
      "h 2\n",
      "e 3\n",
      "u 2\n",
      "r 2\n",
      "o 4\n"
     ]
    }
   ],
   "source": [
    "# 15. Write a Python program to count repeated characters in a string.\n",
    "# Sample string: 'thequickbrownfoxjumpsoverthelazydog'\n",
    "# Expected output :\n",
    "# o 4\n",
    "# e 3\n",
    "# u 2\n",
    "# h 2\n",
    "# r 2\n",
    "# t 2\n",
    "\n",
    "from collections import Counter\n",
    "\n",
    "string = 'thequickbrownfoxjumpsoverthelazydog'\n",
    "\n",
    "freq = Counter(string).items()\n",
    "\n",
    "for key, val in freq:\n",
    "    if val>1:\n",
    "        print(key,val)\n"
   ]
  },
  {
   "cell_type": "code",
   "execution_count": 120,
   "metadata": {},
   "outputs": [
    {
     "name": "stdout",
     "output_type": "stream",
     "text": [
      "1\n"
     ]
    }
   ],
   "source": [
    "# 16. Write a Python program to print the index of the character in a string.\n",
    "\n",
    "string = 'the quick brown fox ran over the lazy dog'\n",
    "\n",
    "print(string.index(\"h\"))"
   ]
  },
  {
   "cell_type": "code",
   "execution_count": 122,
   "metadata": {},
   "outputs": [
    {
     "name": "stdout",
     "output_type": "stream",
     "text": [
      "['the', 'quick', 'brown', 'fox', 'ran', 'over', 'the', 'lazy', 'dog']\n"
     ]
    }
   ],
   "source": [
    "# 17. Write a Python program to convert a string in a list.\n",
    "string = 'the quick brown fox ran over the lazy dog'\n",
    "ls_string = string.split(' ')\n",
    "print(ls_string)"
   ]
  },
  {
   "cell_type": "code",
   "execution_count": 162,
   "metadata": {},
   "outputs": [
    {
     "name": "stdout",
     "output_type": "stream",
     "text": [
      "32,054.23\n"
     ]
    }
   ],
   "source": [
    "# 18. Write a Python program to swap comma and dot in a string.\n",
    "# Sample string: \"32.054,23\"\n",
    "# Expected Output: \"32,054.23\"\n",
    "string = \"32.054,23\"\n",
    "# string = [*string]\n",
    "\n",
    "# for i in range(len(string)):\n",
    "#     if not string[i].isalnum():\n",
    "#         string[i] = ',' if '.' else '.'\n",
    "\n",
    "table = str.maketrans(',.','.,')\n",
    "print(string.translate(table))\n"
   ]
  },
  {
   "cell_type": "code",
   "execution_count": 139,
   "metadata": {},
   "outputs": [
    {
     "name": "stdout",
     "output_type": "stream",
     "text": [
      "smallest : the \n",
      "largest : brown\n"
     ]
    }
   ],
   "source": [
    "# 19. Write a Python program to find smallest and largest word in a given string.\n",
    "string = 'the quick brown fox ran over the lazy dog'\n",
    "\n",
    "string = string.split(' ')\n",
    "\n",
    "string.sort(key=lambda s:len(s))\n",
    "\n",
    "print(f'smallest : {string[0]} \\nlargest : {string[-1]}')\n"
   ]
  },
  {
   "cell_type": "code",
   "execution_count": 168,
   "metadata": {},
   "outputs": [
    {
     "name": "stdout",
     "output_type": "stream",
     "text": [
      "abacdefgfgf\n"
     ]
    }
   ],
   "source": [
    "# 20. Write a Python program to remove all consecutive duplicates of a given string.\n",
    "string = 'abaccddeeeefgfgf'\n",
    "op = string[0]\n",
    "\n",
    "for i in range(1,len(string)):\n",
    "    if string[i] == string[i-1]:\n",
    "        continue\n",
    "    op+=string[i]\n",
    "\n",
    "print(op)\n",
    "\n"
   ]
  }
 ],
 "metadata": {
  "kernelspec": {
   "display_name": "base",
   "language": "python",
   "name": "python3"
  },
  "language_info": {
   "codemirror_mode": {
    "name": "ipython",
    "version": 3
   },
   "file_extension": ".py",
   "mimetype": "text/x-python",
   "name": "python",
   "nbconvert_exporter": "python",
   "pygments_lexer": "ipython3",
   "version": "3.12.4"
  }
 },
 "nbformat": 4,
 "nbformat_minor": 2
}
