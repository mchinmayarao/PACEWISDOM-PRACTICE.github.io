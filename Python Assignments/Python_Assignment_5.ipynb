{
 "cells": [
  {
   "cell_type": "code",
   "execution_count": 22,
   "metadata": {},
   "outputs": [
    {
     "name": "stdout",
     "output_type": "stream",
     "text": [
      "[1505, 1540, 1575, 1610, 1645, 1680, 1715, 1750, 1785, 1820, 1855, 1890, 1925, 1960, 1995, 2030, 2065, 2100, 2135, 2170, 2205, 2240, 2275, 2310, 2345, 2380, 2415, 2450, 2485, 2520, 2555, 2590, 2625, 2660, 2695]\n"
     ]
    }
   ],
   "source": [
    "# 1. Write a Python program to find those numbers which are divisible by 7 and multiple of 5, between 1500 and 2700 (both included)\n",
    "import math\n",
    "\n",
    "a = math.ceil(1500/35)\n",
    "b =  math.ceil(2700/35)\n",
    "\n",
    "list = [ x*35 for x in range(a,b)]\n",
    "\n",
    "print(list)\n",
    "\n"
   ]
  },
  {
   "cell_type": "code",
   "execution_count": 23,
   "metadata": {},
   "outputs": [
    {
     "name": "stdout",
     "output_type": "stream",
     "text": [
      "0\n",
      "1\n",
      "2\n",
      "4\n",
      "5\n"
     ]
    }
   ],
   "source": [
    "# 2. Write a Python program that prints all the numbers from 0 to 6 except 3 and 6.\n",
    "# Note : Use 'continue' statement.\n",
    "# Expected Output : 0 1 2 4 5\n",
    "\n",
    "for i in range(0,7):\n",
    "    if i == 3 or i == 6:\n",
    "        continue\n",
    "    print(i)"
   ]
  },
  {
   "cell_type": "code",
   "execution_count": 25,
   "metadata": {},
   "outputs": [
    {
     "name": "stdout",
     "output_type": "stream",
     "text": [
      "fizzbuzz\n",
      "1\n",
      "2\n",
      "fizz\n",
      "4\n",
      "Buzz\n",
      "fizz\n",
      "7\n",
      "8\n",
      "fizz\n",
      "Buzz\n",
      "11\n",
      "fizz\n",
      "13\n",
      "14\n",
      "fizzbuzz\n",
      "16\n",
      "17\n",
      "fizz\n",
      "19\n",
      "Buzz\n",
      "fizz\n",
      "22\n",
      "23\n",
      "fizz\n",
      "Buzz\n",
      "26\n",
      "fizz\n",
      "28\n",
      "29\n",
      "fizzbuzz\n",
      "31\n",
      "32\n",
      "fizz\n",
      "34\n",
      "Buzz\n",
      "fizz\n",
      "37\n",
      "38\n",
      "fizz\n",
      "Buzz\n",
      "41\n",
      "fizz\n",
      "43\n",
      "44\n",
      "fizzbuzz\n",
      "46\n",
      "47\n",
      "fizz\n",
      "49\n"
     ]
    }
   ],
   "source": [
    "# 3. Write a Python program which iterates the integers from 1 to 50. For multiples of three print \"Fizz\" instead of the number and for the multiples of five print \"Buzz\". For numbers which are multiples of both three and five print \"FizzBuzz\".\n",
    "# Sample Output :\n",
    "# fizzbuzz\n",
    "# 1\n",
    "# 2\n",
    "# fizz\n",
    "# 4\n",
    "# Buzz\n",
    "\n",
    "for i in range(0,50):\n",
    "    if i%15 == 0:\n",
    "        print('fizzbuzz')\n",
    "    elif i%3==0:\n",
    "        print('fizz')\n",
    "    elif i%5==0:\n",
    "        print('Buzz')\n",
    "    else:\n",
    "        print(i)\n"
   ]
  },
  {
   "cell_type": "code",
   "execution_count": 27,
   "metadata": {},
   "outputs": [
    {
     "name": "stdout",
     "output_type": "stream",
     "text": [
      "Scalene Trinangle\n"
     ]
    }
   ],
   "source": [
    "# 4. Write a Python program to check a triangle is equilateral, isosceles or scalene.\n",
    "# Note :\n",
    "# An equilateral triangle is a triangle in which all three sides are equal.\n",
    "# A scalene triangle is a triangle that has three unequal sides.\n",
    "# An isosceles triangle is a triangle with two equal sides.\n",
    "# Expected Output:\n",
    "# Input lengths of the triangle sides:                                    \n",
    "# x: 6                                                                    \n",
    "# y: 8                                                                    \n",
    "# z: 12                                                                   \n",
    "# Scalene triangle \n",
    "\n",
    "x= 6                                                                    \n",
    "y= 8                                                                    \n",
    "z= 12  \n",
    "\n",
    "def triangleType(x,y,z):\n",
    "    if x==y==z:\n",
    "        return 'Equilateral Triangle'\n",
    "    elif x==y or y==z or z==x:\n",
    "        return 'Isosceles Trinagle'\n",
    "    else:\n",
    "        return 'Scalene Trinangle'\n",
    "    \n",
    "print(triangleType(x,y,z))\n"
   ]
  },
  {
   "cell_type": "code",
   "execution_count": 63,
   "metadata": {},
   "outputs": [
    {
     "name": "stdout",
     "output_type": "stream",
     "text": [
      "numbers : [1, 2, 3, 4]\n",
      "sum : 10\n",
      "average : 2.5\n"
     ]
    }
   ],
   "source": [
    "# 5. Write a Python program to calculate the sum and average of n integer numbers (input from the user). Input 0 to finish\n",
    "\n",
    "numbers = [int(x) for x in input().split()]\n",
    "\n",
    "Sum = 0\n",
    "\n",
    "for num in numbers:\n",
    "    Sum += num\n",
    "\n",
    "print(f'numbers : {numbers}\\nsum : {Sum}\\naverage : {Sum/len(numbers)}')"
   ]
  },
  {
   "cell_type": "code",
   "execution_count": 46,
   "metadata": {},
   "outputs": [
    {
     "name": "stdout",
     "output_type": "stream",
     "text": [
      "\n",
      "1\n",
      "22\n",
      "333\n",
      "4444\n",
      "55555\n",
      "666666\n",
      "7777777\n",
      "88888888\n",
      "999999999\n"
     ]
    }
   ],
   "source": [
    "# 6. Write a Python program to construct the following pattern, using a nested loop number.\n",
    "# 1\n",
    "# 22\n",
    "# 333\n",
    "# 4444\n",
    "# 55555\n",
    "# 666666\n",
    "# 7777777\n",
    "# 88888888\n",
    "# 999999999\n",
    "\n",
    "for i in range(10):\n",
    "    for j in range(i):\n",
    "        print(i , end=\"\")\n",
    "    print()"
   ]
  },
  {
   "cell_type": "code",
   "execution_count": 71,
   "metadata": {},
   "outputs": [
    {
     "name": "stdout",
     "output_type": "stream",
     "text": [
      "3\n"
     ]
    }
   ],
   "source": [
    "# 7. Write a Python program that counts the number of elements within a list that are greater than 30.\n",
    "numbers = [20, 30, 12, 45, 11, 6, 23, 67, 34]\n",
    "\n",
    "\n",
    "l = [1 for x in numbers if x > 30]\n",
    "count = sum(l)\n",
    "\n",
    "# Print the result\n",
    "print(count)\n"
   ]
  },
  {
   "cell_type": "code",
   "execution_count": 75,
   "metadata": {},
   "outputs": [
    {
     "name": "stdout",
     "output_type": "stream",
     "text": [
      "<class 'int'>\n",
      "not square\n"
     ]
    }
   ],
   "source": [
    "# 8. Take values of length and breadth of a rectangle from user and check if it is square or not.\n",
    "length , breadth = map(int ,  input('enter length and breadth').split())\n",
    "\n",
    "if length == breadth:\n",
    "    print(\"square\")\n",
    "else:\n",
    "    print(\"not square\")"
   ]
  },
  {
   "cell_type": "code",
   "execution_count": 79,
   "metadata": {},
   "outputs": [
    {
     "name": "stdout",
     "output_type": "stream",
     "text": [
      "total cost : 10000\n"
     ]
    }
   ],
   "source": [
    "# 9. A shop will give discount of 10% if the cost of purchased quantity is more than 1000.\n",
    "# Ask user for quantity\n",
    "# Suppose, one unit will cost 100.\n",
    "# Judge and print total cost for user.\n",
    "\n",
    "quantity = int(input('enter quantity'))\n",
    "\n",
    "tot = (quantity*100 - quantity*0.10) if quantity>=1000 else quantity*100\n",
    "\n",
    "print(f'total cost : {tot}')\n",
    "\n",
    "\n"
   ]
  },
  {
   "cell_type": "code",
   "execution_count": 81,
   "metadata": {},
   "outputs": [
    {
     "name": "stdout",
     "output_type": "stream",
     "text": [
      "105.0\n"
     ]
    }
   ],
   "source": [
    "# 10. A company decided to give bonus of 5% to employee if his/her year of service is more than 5 years.\n",
    "# Ask user for their salary and year of service and print the net bonus amount.\n",
    "\n",
    "salary = int(input('enter salary'))\n",
    "service = int(input('enter years of service'))\n",
    "\n",
    "net_bonus = salary + salary*0.05 if service>5 else salary\n",
    "\n",
    "print(net_bonus)"
   ]
  },
  {
   "cell_type": "code",
   "execution_count": 83,
   "metadata": {},
   "outputs": [
    {
     "name": "stdout",
     "output_type": "stream",
     "text": [
      "D\n"
     ]
    }
   ],
   "source": [
    "# 11. A school has following rules for grading system:\n",
    "# a. Below 25 - F\n",
    "# b. 25 to 45 - E\n",
    "# c. 45 to 50 - D\n",
    "# d. 50 to 60 - C\n",
    "# f. Above 80 - A\n",
    "# Ask user to enter marks and print the corresponding grade.\n",
    "\n",
    "marks = int(input('enter marks'))\n",
    "\n",
    "if marks<25:\n",
    "    print('F')\n",
    "\n",
    "elif 25 <= marks < 45:\n",
    "    print('E')\n",
    "\n",
    "elif 45 <= marks < 50:\n",
    "    print('D')\n",
    "\n",
    "elif 50 <= marks < 60:\n",
    "    print('C')\n",
    "\n",
    "elif 60 <= marks < 80:\n",
    "    print('B')\n",
    "else:\n",
    "    print('A')\n",
    "\n"
   ]
  },
  {
   "cell_type": "code",
   "execution_count": 84,
   "metadata": {},
   "outputs": [
    {
     "name": "stdout",
     "output_type": "stream",
     "text": [
      "Number of clasess held : 50\n",
      "Number of classes attended : 25\n",
      "Attendence Percentage : 50.0\n",
      "Status : Not Allowed\n"
     ]
    }
   ],
   "source": [
    "# 12. A student will not be allowed to sit in exam if his/her attendence is less than 75%.\n",
    "# Take following input from user\n",
    "# Number of classes held\n",
    "# Number of classes attended.\n",
    "# And print\n",
    "# percentage of class attended\n",
    "# Is student is allowed to sit in exam or not.\n",
    "\n",
    "classes_held = int(input('enter no.of classes held'))\n",
    "classes_attended = int(input('enter no.of classes attended'))\n",
    "percentage = (classes_attended/classes_held)*100\n",
    "status = \"Allowed\" if percentage>75 else \"Not Allowed\"\n",
    "\n",
    "print(f'Number of clasess held : {classes_held}\\nNumber of classes attended : {classes_attended}\\nAttendence Percentage : {percentage}\\nStatus : {status}')"
   ]
  },
  {
   "cell_type": "code",
   "execution_count": 86,
   "metadata": {},
   "outputs": [
    {
     "name": "stdout",
     "output_type": "stream",
     "text": [
      "numbers : [1, 2, 3, 4, 5, 6, 7, 8, 9, 10]\n",
      "average : 5.5\n"
     ]
    }
   ],
   "source": [
    "# 13. Take 10 integers from keyboard using loop and print their average value on the screen.\n",
    "nums = []\n",
    "\n",
    "for _ in range(10):\n",
    "    nums.append(int(input()))\n",
    "avg = sum(nums) / len(nums)\n",
    "print(f'numbers : {nums}\\naverage : {avg}')"
   ]
  },
  {
   "cell_type": "code",
   "execution_count": 88,
   "metadata": {},
   "outputs": [
    {
     "name": "stdout",
     "output_type": "stream",
     "text": [
      "Multiplication table of 24:\n",
      "24 * 1 = 24\n",
      "24 * 2 = 48\n",
      "24 * 3 = 72\n",
      "24 * 4 = 96\n",
      "24 * 5 = 120\n",
      "24 * 6 = 144\n",
      "24 * 7 = 168\n",
      "24 * 8 = 192\n",
      "24 * 9 = 216\n",
      "24 * 10 = 240\n",
      "\n",
      "Multiplication table of 29:\n",
      "29 * 1 = 29\n",
      "29 * 2 = 58\n",
      "29 * 3 = 87\n",
      "29 * 4 = 116\n",
      "29 * 5 = 145\n",
      "29 * 6 = 174\n",
      "29 * 7 = 203\n",
      "29 * 8 = 232\n",
      "29 * 9 = 261\n",
      "29 * 10 = 290\n",
      "\n",
      "Multiplication table of 50:\n",
      "50 * 1 = 50\n",
      "50 * 2 = 100\n",
      "50 * 3 = 150\n",
      "50 * 4 = 200\n",
      "50 * 5 = 250\n",
      "50 * 6 = 300\n",
      "50 * 7 = 350\n",
      "50 * 8 = 400\n",
      "50 * 9 = 450\n",
      "50 * 10 = 500\n",
      "\n"
     ]
    }
   ],
   "source": [
    "# 14. Print multiplication table of 24, 50 and 29 using loop.\n",
    "for i in [24,29,50]:\n",
    "\n",
    "    print(f\"Multiplication table of {i}:\")\n",
    "\n",
    "    for j in range(1,11):\n",
    "\n",
    "        print(f\"{i} * {j} = {i*j}\")\n",
    "\n",
    "    print()"
   ]
  },
  {
   "cell_type": "code",
   "execution_count": 92,
   "metadata": {},
   "outputs": [
    {
     "name": "stdout",
     "output_type": "stream",
     "text": [
      "[1, 2, 3]\n",
      "Numbers : [1, 2, 3]\n",
      "Sum : 6\n",
      "Product : 6\n",
      "Average : 2.0\n",
      "\n"
     ]
    }
   ],
   "source": [
    "# 15. Take integer inputs from user until he/she presses q ( Ask to press q to quit after every integer input ). Print average and product of all numbers.\n",
    "\n",
    "nums = []\n",
    "\n",
    "while 1:\n",
    "    num = input('enter the number (press q to quit)')\n",
    "    if num == 'q':\n",
    "        break\n",
    "    else:\n",
    "        nums.append(int(num))\n",
    "\n",
    "Sum = 0\n",
    "prd = 1\n",
    "\n",
    "print(nums)\n",
    "for num in nums:\n",
    "    Sum += num\n",
    "    prd *= num\n",
    "\n",
    "avg = Sum/len(nums)\n",
    "\n",
    "print(f'Numbers : {nums}\\nSum : {Sum}\\nProduct : {prd}\\nAverage : {avg}\\n')\n",
    "\n"
   ]
  },
  {
   "cell_type": "code",
   "execution_count": 97,
   "metadata": {},
   "outputs": [
    {
     "name": "stdout",
     "output_type": "stream",
     "text": [
      "Original list : ['1', '2', '3', '4', '5']\n",
      "Element to delete : 3\n",
      "List after deletion : ['1', '2', '4', '5']\n"
     ]
    }
   ],
   "source": [
    "# 16. Take inputs from user to make a list. Again take one input from user and search it in the list and delete that element, if found. Iterate over list using for loop.\n",
    "\n",
    "lists = input('enter list items with space separation').split()\n",
    "print(f'Original list : {lists}')\n",
    "\n",
    "target = input('enter element to delete')\n",
    "print(f'Element to delete : {target}')\n",
    "\n",
    "lists.remove(target)\n",
    "print(f'List after deletion : {lists}')"
   ]
  },
  {
   "cell_type": "code",
   "execution_count": 99,
   "metadata": {},
   "outputs": [
    {
     "name": "stdout",
     "output_type": "stream",
     "text": [
      "odd : [1, 3, 5, 7, 9, 11, 13, 15, 17, 19, 21, 23, 25, 27, 29, 31, 33, 35, 37, 39, 41, 43, 45, 47, 49, 51, 53, 55, 57, 59, 61, 63, 65, 67, 69, 71, 73, 75, 77, 79, 81, 83, 85, 87, 89, 91, 93, 95, 97, 99]\n",
      "even : [2, 4, 6, 8, 10, 12, 14, 16, 18, 20, 22, 24, 26, 28, 30, 32, 34, 36, 38, 40, 42, 44, 46, 48, 50, 52, 54, 56, 58, 60, 62, 64, 66, 68, 70, 72, 74, 76, 78, 80, 82, 84, 86, 88, 90, 92, 94, 96, 98, 100]\n",
      "prime : [2, 3, 5, 7, 11, 13, 17, 19, 23, 29, 31, 37, 41, 43, 47, 53, 59, 61, 67, 71, 73, 79, 83, 89, 97]\n"
     ]
    }
   ],
   "source": [
    "# 17. Using range(1,101), make three list, \n",
    "# one containing all even numbers\n",
    "# one containing all odd numbers \n",
    "# One containing only prime numbers..\n",
    "even = []\n",
    "odd = []\n",
    "prime = []\n",
    "\n",
    "def is_prime(num):\n",
    "    if num <= 1:\n",
    "        return False\n",
    "    for i in range(2, int(num**0.5) + 1):\n",
    "        if num % i == 0:\n",
    "            return False\n",
    "    return True\n",
    "\n",
    "for num in range(1,101):\n",
    "    if num%2==0:\n",
    "        even.append(num)\n",
    "    else:\n",
    "        odd.append(num)\n",
    "    if is_prime(num):\n",
    "        prime.append(num)\n",
    "\n",
    "print(f'odd : {odd}\\neven : {even}\\nprime : {prime}')\n"
   ]
  },
  {
   "cell_type": "code",
   "execution_count": 102,
   "metadata": {},
   "outputs": [
    {
     "name": "stdout",
     "output_type": "stream",
     "text": [
      "odd numbers divisible by 4 : []\n",
      "even numbers divisible by 4 : [4, 8, 12, 16, 20, 24, 28, 32, 36, 40, 44, 48, 52, 56, 60, 64, 68, 72, 76, 80, 84, 88, 92, 96, 100]\n",
      "\n",
      "odd numbers divisible by 6 : []\n",
      "even numbers divisible by 6 : [6, 12, 18, 24, 30, 36, 42, 48, 54, 60, 66, 72, 78, 84, 90, 96]\n",
      "\n",
      "odd numbers divisible by 8 : []\n",
      "even numbers divisible by 8 : [8, 16, 24, 32, 40, 48, 56, 64, 72, 80, 88, 96]\n",
      "\n",
      "odd numbers divisible by 10 : []\n",
      "even numbers divisible by 10 : [10, 20, 30, 40, 50, 60, 70, 80, 90, 100]\n",
      "\n",
      "odd numbers divisible by 3 : [3, 9, 15, 21, 27, 33, 39, 45, 51, 57, 63, 69, 75, 81, 87, 93, 99]\n",
      "even numbers divisible by 3 : [6, 12, 18, 24, 30, 36, 42, 48, 54, 60, 66, 72, 78, 84, 90, 96]\n",
      "\n",
      "odd numbers divisible by 5 : [5, 15, 25, 35, 45, 55, 65, 75, 85, 95]\n",
      "even numbers divisible by 5 : [10, 20, 30, 40, 50, 60, 70, 80, 90, 100]\n",
      "\n",
      "odd numbers divisible by 7 : [7, 21, 35, 49, 63, 77, 91]\n",
      "even numbers divisible by 7 : [14, 28, 42, 56, 70, 84, 98]\n",
      "\n",
      "odd numbers divisible by 9 : [9, 27, 45, 63, 81, 99]\n",
      "even numbers divisible by 9 : [18, 36, 54, 72, 90]\n",
      "\n"
     ]
    }
   ],
   "source": [
    "# 18. From the two list obtained in previous question, make new lists, containing only numbers which are divisible by 4, 6, 8, 10, 3, 5, 7 and 9 in separate lists.\n",
    "\n",
    "numbers = [4, 6, 8, 10, 3, 5, 7, 9]\n",
    "odd = [1, 3, 5, 7, 9, 11, 13, 15, 17, 19, 21, 23, 25, 27, 29, 31, 33, 35, 37, 39, 41, 43, 45, 47, 49, 51, 53, 55, 57, 59, 61, 63, 65, 67, 69, 71, 73, 75, 77, 79, 81, 83, 85, 87, 89, 91, 93, 95, 97, 99]\n",
    "even = [2, 4, 6, 8, 10, 12, 14, 16, 18, 20, 22, 24, 26, 28, 30, 32, 34, 36, 38, 40, 42, 44, 46, 48, 50, 52, 54, 56, 58, 60, 62, 64, 66, 68, 70, 72, 74, 76, 78, 80, 82, 84, 86, 88, 90, 92, 94, 96, 98, 100]\n",
    "\n",
    "divisible = lambda num , ls: [n for n in ls if n%num ==0]\n",
    "\n",
    "for num in numbers:\n",
    "    print(f'odd numbers divisible by {num} : {divisible(num,odd)}')\n",
    "    print(f'even numbers divisible by {num} : {divisible(num,even)}\\n')"
   ]
  },
  {
   "cell_type": "code",
   "execution_count": 113,
   "metadata": {},
   "outputs": [
    {
     "name": "stdout",
     "output_type": "stream",
     "text": [
      "intergers : [2, 1, 23]\n",
      "strings : ['hell', 'hdhfu', 'ttiijd', 'ewkdm']\n",
      "floats : [45.7, 34.5, 43.5]\n"
     ]
    }
   ],
   "source": [
    "# 19. From a list containing ints, strings and floats, make three lists to store them separately\n",
    "list = [2,'hell',45.7,'hdhfu',1,23,34.5,43.5,'ttiijd','ewkdm']\n",
    "\n",
    "intergers = []\n",
    "strings = []\n",
    "floats = []\n",
    "\n",
    "for item in list:\n",
    "    if type(item)==int:\n",
    "        intergers.append(item)\n",
    "    elif type(item)==str:\n",
    "        strings.append(item)\n",
    "    elif type(item)==float:\n",
    "        floats.append(item)\n",
    "\n",
    "print(f'intergers : {intergers}\\nstrings : {strings}\\nfloats : {floats}')"
   ]
  },
  {
   "cell_type": "code",
   "execution_count": 120,
   "metadata": {},
   "outputs": [
    {
     "name": "stdout",
     "output_type": "stream",
     "text": [
      "(number : square)\n",
      "(3 : 9)\n",
      "(2 : 4)\n",
      "(4 : 16)\n",
      "(6 : 36)\n",
      "(7 : 49)\n",
      "(8 : 64)\n",
      "(1 : 1)\n",
      "(2 : 4)\n",
      "(4 : 16)\n",
      "(5 : 25)\n",
      "(9 : 81)\n"
     ]
    }
   ],
   "source": [
    "# 20.You are given with a list of integer elements. Make a new list which will store square of elements of previous list.\n",
    "\n",
    "numbers = [3,2,4,6,7,8,1,2,4,5,9]\n",
    "\n",
    "square = [ n*n for n in numbers]\n",
    "\n",
    "print('(number : square)')\n",
    "for i in range(len(numbers)):\n",
    "    print(f'({numbers[i]} : {square[i]})')"
   ]
  }
 ],
 "metadata": {
  "kernelspec": {
   "display_name": "base",
   "language": "python",
   "name": "python3"
  },
  "language_info": {
   "codemirror_mode": {
    "name": "ipython",
    "version": 3
   },
   "file_extension": ".py",
   "mimetype": "text/x-python",
   "name": "python",
   "nbconvert_exporter": "python",
   "pygments_lexer": "ipython3",
   "version": "3.12.4"
  }
 },
 "nbformat": 4,
 "nbformat_minor": 2
}
