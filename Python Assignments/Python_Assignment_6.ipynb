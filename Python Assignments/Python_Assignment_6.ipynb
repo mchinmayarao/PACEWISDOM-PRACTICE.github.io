{
 "cells": [
  {
   "cell_type": "code",
   "execution_count": 26,
   "metadata": {},
   "outputs": [
    {
     "name": "stdout",
     "output_type": "stream",
     "text": [
      "{'mfwef': 2, 'lwpkp': 13, 'obcfr': 15, 'zjxez': 20, 'upuwc': 42, 'tzkjd': 66, 'hsdqr': 71, 'yhuyg': 75, 'zxevx': 86, 'gptva': 96}\n"
     ]
    }
   ],
   "source": [
    "# 1. Write a Python script to sort (ascending and descending) a dictionary by value.\n",
    "\n",
    "dictionary = {'zxevx': 86,'upuwc': 42,'obcfr': 15,'tzkjd': 66,'zjxez': 20,'gptva': 96,'yhuyg': 75,'lwpkp': 13,'hsdqr': 71,'mfwef': 2}\n",
    "\n",
    "# keys = list(dictionary.keys())\n",
    "# values = list(dictionary.values())\n",
    "\n",
    "# sorted_values = sorted(values)\n",
    "\n",
    "sorted_dict = sorted(dictionary.items() , key=lambda item:item[1])\n",
    "\n",
    "# for val in sorted_values:\n",
    "#     i = values.index(val)\n",
    "#     sorted_dict[keys[i]] = val\n",
    "\n",
    "\n",
    "print(dict(sorted_dict))\n"
   ]
  },
  {
   "cell_type": "code",
   "execution_count": 27,
   "metadata": {},
   "outputs": [
    {
     "name": "stdout",
     "output_type": "stream",
     "text": [
      "{0: 10, 1: 20, 2: 30}\n"
     ]
    }
   ],
   "source": [
    "# 2. Write a Python script to add a key to a dictionary.\n",
    "# Sample Dictionary : {0: 10, 1: 20}\n",
    "# Expected Result : {0: 10, 1: 20, 2: 30}\n",
    "\n",
    "Dictionary = {0: 10, 1: 20}\n",
    "Dictionary[2] = 30\n",
    "\n",
    "print(Dictionary)"
   ]
  },
  {
   "cell_type": "code",
   "execution_count": 55,
   "metadata": {},
   "outputs": [
    {
     "name": "stdout",
     "output_type": "stream",
     "text": [
      "{1: 10, 2: 20, 3: 30, 4: 40, 5: 50, 6: 60}\n"
     ]
    }
   ],
   "source": [
    "# 3. Write a Python script to concatenate following dictionaries to create a new one.\n",
    "# Sample Dictionary :\n",
    "# dic1={1:10, 2:20}\n",
    "# dic2={3:30, 4:40}\n",
    "# dic3={5:50,6:60}\n",
    "# Expected Result : {1: 10, 2: 20, 3: 30, 4: 40, 5: 50, 6: 60}\n",
    "\n",
    "\n",
    "dic1={1:10, 2:20}\n",
    "dic2={3:30, 4:40}\n",
    "dic3={5:50,6:60}\n",
    "\n",
    "new_dict = dict( list(dic1.items()) +  list(dic2.items()) +  list(dic3.items()))\n",
    "\n",
    "print(new_dict)"
   ]
  },
  {
   "cell_type": "code",
   "execution_count": 48,
   "metadata": {},
   "outputs": [
    {
     "name": "stdout",
     "output_type": "stream",
     "text": [
      "Dictionary has key 7 : False\n",
      "Dictionary has key 2 : True\n"
     ]
    }
   ],
   "source": [
    "# 4. Write a Python script to check if a given key already exists in a dictionary. \n",
    "\n",
    "dic = {1: 10, 2: 20, 3: 30, 4: 40, 5: 50, 6: 60}\n",
    "\n",
    "print(f'Dictionary has key 7 : {dic.__contains__(7)}')\n",
    "print(f'Dictionary has key 2 : {dic.__contains__(2)}')"
   ]
  },
  {
   "cell_type": "code",
   "execution_count": 50,
   "metadata": {},
   "outputs": [
    {
     "name": "stdout",
     "output_type": "stream",
     "text": [
      "zxevx = 86\n",
      "upuwc = 42\n",
      "obcfr = 15\n",
      "tzkjd = 66\n",
      "zjxez = 20\n",
      "gptva = 96\n",
      "yhuyg = 75\n",
      "lwpkp = 13\n",
      "hsdqr = 71\n",
      "mfwef = 2\n"
     ]
    }
   ],
   "source": [
    "# 5. Write a Python program to iterate over dictionaries using for loops.\n",
    "dictionary = {'zxevx': 86,'upuwc': 42,'obcfr': 15,'tzkjd': 66,'zjxez': 20,'gptva': 96,'yhuyg': 75,'lwpkp': 13,'hsdqr': 71,'mfwef': 2}\n",
    "\n",
    "for key,val in dictionary.items():\n",
    "    print(f'{key} = {val}')"
   ]
  },
  {
   "cell_type": "code",
   "execution_count": 52,
   "metadata": {},
   "outputs": [
    {
     "name": "stdout",
     "output_type": "stream",
     "text": [
      "{1: 1, 2: 4, 3: 9, 4: 16, 5: 25}\n"
     ]
    }
   ],
   "source": [
    "# 6. Write a Python script to generate and print a dictionary that contains a number (between 1 and n) in the form (x, x*x). \n",
    "# Sample Dictionary ( n = 5) :\n",
    "# Expected Output : {1: 1, 2: 4, 3: 9, 4: 16, 5: 25}\n",
    "\n",
    "def generate_dictionary(num):\n",
    "    return { n:n*n for n in range(1,num+1)}\n",
    "\n",
    "n = int(input('enter the number'))\n",
    "\n",
    "print(generate_dictionary(n))"
   ]
  },
  {
   "cell_type": "code",
   "execution_count": 56,
   "metadata": {},
   "outputs": [
    {
     "name": "stdout",
     "output_type": "stream",
     "text": [
      "{1: 10, 2: 20, 3: 30, 4: 40}\n"
     ]
    }
   ],
   "source": [
    "# 7. Write a Python script to merge two Python dictionaries.\n",
    "dic11={1:10, 2:20}\n",
    "dic22={3:30, 4:40}\n",
    "\n",
    "dic11.update(dic22)\n",
    "print(dic11)"
   ]
  },
  {
   "cell_type": "code",
   "execution_count": 57,
   "metadata": {},
   "outputs": [
    {
     "name": "stdout",
     "output_type": "stream",
     "text": [
      "sum_of_items : 486\n"
     ]
    }
   ],
   "source": [
    "# 8.  Write a Python program to sum all the items in a dictionary.\n",
    "dictionary = {'zxevx': 86,'upuwc': 42,'obcfr': 15,'tzkjd': 66,'zjxez': 20,'gptva': 96,'yhuyg': 75,'lwpkp': 13,'hsdqr': 71,'mfwef': 2}\n",
    "\n",
    "sum_of_items = sum(list(dictionary.values()))\n",
    "\n",
    "print(f'sum_of_items : {sum_of_items}')"
   ]
  },
  {
   "cell_type": "code",
   "execution_count": 58,
   "metadata": {},
   "outputs": [
    {
     "name": "stdout",
     "output_type": "stream",
     "text": [
      "950554725120000\n"
     ]
    }
   ],
   "source": [
    "# 9. Write a Python program to multiply all the items in a dictionary.\n",
    "dictionary = {'zxevx': 86,'upuwc': 42,'obcfr': 15,'tzkjd': 66,'zjxez': 20,'gptva': 96,'yhuyg': 75,'lwpkp': 13,'hsdqr': 71,'mfwef': 2}\n",
    "\n",
    "product = 1\n",
    "\n",
    "for val in dictionary.values():\n",
    "    product*=val \n",
    "\n",
    "print(product)"
   ]
  },
  {
   "cell_type": "code",
   "execution_count": 66,
   "metadata": {},
   "outputs": [
    {
     "name": "stdout",
     "output_type": "stream",
     "text": [
      "removed :  86\n",
      "modified dictionary :  {'upuwc': 42, 'obcfr': 15, 'tzkjd': 66, 'zjxez': 20, 'gptva': 96, 'yhuyg': 75, 'lwpkp': 13, 'hsdqr': 71, 'mfwef': 2}\n"
     ]
    }
   ],
   "source": [
    "# 10. Write a Python program to remove a key from a dictionary. \n",
    "dictionary = {'zxevx': 86,'upuwc': 42,'obcfr': 15,'tzkjd': 66,'zjxez': 20,'gptva': 96,'yhuyg': 75,'lwpkp': 13,'hsdqr': 71,'mfwef': 2}\n",
    "\n",
    "removed = dictionary.pop('zxevx')\n",
    "print('removed : ' ,removed)\n",
    "print(\"modified dictionary : \" , dictionary)\n"
   ]
  },
  {
   "cell_type": "code",
   "execution_count": 70,
   "metadata": {},
   "outputs": [
    {
     "name": "stdout",
     "output_type": "stream",
     "text": [
      "{'gptva': 96, 'hsdqr': 71, 'lwpkp': 13, 'mfwef': 2, 'obcfr': 15, 'tzkjd': 66, 'upuwc': 42, 'yhuyg': 75, 'zjxez': 20, 'zxevx': 86}\n"
     ]
    }
   ],
   "source": [
    "# 11. Write a Python program to sort a dictionary by key.\n",
    "dictionary = {'zxevx': 86,'upuwc': 42,'obcfr': 15,'tzkjd': 66,'zjxez': 20,'gptva': 96,'yhuyg': 75,'lwpkp': 13,'hsdqr': 71,'mfwef': 2}\n",
    "dictionary = sorted(dictionary.items() , key=lambda item:item[0])\n",
    "\n",
    "print(dict(dictionary))\n"
   ]
  },
  {
   "cell_type": "code",
   "execution_count": 85,
   "metadata": {},
   "outputs": [
    {
     "name": "stdout",
     "output_type": "stream",
     "text": [
      "minimum : 2\n",
      "maximum : 96\n"
     ]
    }
   ],
   "source": [
    "# 12. Write a Python program to get the maximum and minimum value in a dictionary. \n",
    "dictionary = {'zxevx': 86,'upuwc': 42,'obcfr': 15,'tzkjd': 66,'zjxez': 20,'gptva': 96,'yhuyg': 75,'lwpkp': 13,'hsdqr': 71,'mfwef': 2}\n",
    "\n",
    "minimum = min(dictionary.values())\n",
    "maximum = max(dictionary.values())\n",
    "\n",
    "print(f'minimum : {minimum}\\nmaximum : {maximum}')"
   ]
  },
  {
   "cell_type": "code",
   "execution_count": 105,
   "metadata": {},
   "outputs": [
    {
     "name": "stdout",
     "output_type": "stream",
     "text": [
      "{'kaueo': 4, 'yases': 6, 'yaeaf': 2, 'jqazy': 19, 'shljb': 8, 'ejtqv': 15}\n"
     ]
    }
   ],
   "source": [
    "# 13. Write a Python program to remove duplicates from Dictionary.\n",
    "with_duplicates =  {'kaueo': 4, 'yases': 6, 'oqpjy': 4, 'yaeaf': 2, 'nmrad': 2, 'jqazy': 19, 'nusnu': 6, 'shljb': 8, 'ejtqv': 15, 'yides': 4}\n",
    "\n",
    "without_duplicates = dict()\n",
    "values = set()\n",
    "for key,val in with_duplicates.items():\n",
    "    if val not in values:\n",
    "        without_duplicates[key] = val\n",
    "        values.add(val)\n",
    "\n",
    "print(without_duplicates)\n",
    "\n"
   ]
  },
  {
   "cell_type": "code",
   "execution_count": 107,
   "metadata": {},
   "outputs": [
    {
     "name": "stdout",
     "output_type": "stream",
     "text": [
      "isempty(dict1) : False\n",
      "isempty(dict2) : True\n"
     ]
    }
   ],
   "source": [
    "# 14. Write a Python program to check a dictionary is empty or not. \n",
    "dict1 = {'kaueo': 4, 'yases': 6, 'oqpjy': 4, 'yaeaf': 2, 'nmrad': 2, 'jqazy': 19, 'nusnu': 6, 'shljb': 8, 'ejtqv': 15, 'yides': 4}\n",
    "dict2 = dict()\n",
    "\n",
    "isempty = lambda d : True if len(d) ==0 else False\n",
    "\n",
    "print(f'isempty(dict1) : {isempty(dict1)}')\n",
    "print(f'isempty(dict2) : {isempty(dict2)}')\n"
   ]
  },
  {
   "cell_type": "code",
   "execution_count": 142,
   "metadata": {},
   "outputs": [
    {
     "name": "stdout",
     "output_type": "stream",
     "text": [
      "{'a': 400, 'b': 400, 'c': 300, 'd': 400}\n"
     ]
    }
   ],
   "source": [
    "# 15. Write a Python program to combine two dictionary adding values for common keys.\n",
    "# d1 = {'a': 100, 'b': 200, 'c':300}\n",
    "# d2 = {'a': 300, 'b': 200, 'd':400}\n",
    "# Sample output: Counter({'a': 400, 'b': 400, 'd': 400, 'c': 300})\n",
    "\n",
    "d1 = {'a': 100, 'b': 200, 'c':300}\n",
    "d2 = {'a': 300, 'b': 200, 'd':400}\n",
    "\n",
    "\n",
    "d1_keys,d2_keys = set(d1.keys()) , set(d2.keys())\n",
    "\n",
    "\n",
    "common_keys = d2_keys & d1_keys\n",
    "\n",
    "d1_non_comman_keys = d1_keys - common_keys\n",
    "d2_non_comman_keys = d2_keys - common_keys\n",
    "\n",
    "\n",
    "merged = {key : d1[key]+d2[key] for key in common_keys}\n",
    "\n",
    "\n",
    "for key in d1_non_comman_keys:\n",
    "    merged.__setitem__(key,d1[key])\n",
    "\n",
    "for key in d2_non_comman_keys:\n",
    "    merged.__setitem__(key,d2[key])\n",
    "\n",
    "print(merged)\n",
    "\n",
    "    "
   ]
  },
  {
   "cell_type": "code",
   "execution_count": 146,
   "metadata": {},
   "outputs": [
    {
     "data": {
      "text/plain": [
       "[8, 15, 19]"
      ]
     },
     "execution_count": 146,
     "metadata": {},
     "output_type": "execute_result"
    }
   ],
   "source": [
    "# 16. Write a Python program to find the highest 3 values in a dictionary.\n",
    "dict1 = {'kaueo': 4, 'yases': 6, 'oqpjy': 4, 'yaeaf': 2, 'nmrad': 2, 'jqazy': 19, 'nusnu': 6, 'shljb': 8, 'ejtqv': 15, 'yides': 4}\n",
    "\n",
    "highest_3 = lambda dictionary : list(sorted(dictionary.values()))[-3:]\n",
    "\n",
    "highest_3(dict1)"
   ]
  },
  {
   "cell_type": "code",
   "execution_count": 158,
   "metadata": {},
   "outputs": [
    {
     "name": "stdout",
     "output_type": "stream",
     "text": [
      "comman_pairs : {'key1': 1, 'key2': 3, 'key3': 2}\n"
     ]
    }
   ],
   "source": [
    "# 17. Write a Python program to match key values in two dictionaries.\n",
    "# Sample dictionary: {'key1': 1, 'key2': 3, 'key3': 2}, {'key1': 1, 'key2': 2}\n",
    "# Expected output: key1: 1 is present in both x and y\n",
    "\n",
    "d1 = {'key1': 1, 'key2': 3, 'key3': 2}\n",
    "d2 = {'key1': 1, 'key2': 2}\n",
    "\n",
    "comman_keys = d1.keys() & d2.keys()\n",
    "\n",
    "comman_pairs = {key : d1[key] for key in comman_keys if d1[key] == d2[key]}\n",
    "\n",
    "\n",
    "print(f'comman_pairs : {comman_pairs}')"
   ]
  },
  {
   "cell_type": "code",
   "execution_count": 173,
   "metadata": {},
   "outputs": [
    {
     "name": "stdout",
     "output_type": "stream",
     "text": [
      "True\n"
     ]
    }
   ],
   "source": [
    "# 18. Write a Python program to check if all dictionaries in a list are empty or not.\n",
    "# Sample list : [{},{},{}]\n",
    "# Return value : True\n",
    "# Sample list : [{1,2},{},{}]\n",
    "# Return value : False\n",
    "array = [{},{},{},{},{}]\n",
    "\n",
    "flag = False if any(array) else True\n",
    "\n",
    "\n",
    "\n",
    "print(flag)"
   ]
  },
  {
   "cell_type": "code",
   "execution_count": 179,
   "metadata": {},
   "outputs": [
    {
     "name": "stdout",
     "output_type": "stream",
     "text": [
      "[[10, 20], [40], [30, 56, 25], [33]]\n"
     ]
    }
   ],
   "source": [
    "# 19. Write a Python program to remove duplicates from a list of lists.\n",
    "# Sample list : [[10, 20], [40], [30, 56, 25], [10, 20], [33], [40]]\n",
    "# New List : [[10, 20], [30, 56, 25], [33], [40]]\n",
    "\n",
    "Sample_list = [[10, 20], [40], [30, 56, 25], [10, 20], [33], [40]]\n",
    "\n",
    "temp = list()\n",
    "\n",
    "for item in Sample_list:\n",
    "    if item not in temp:\n",
    "        temp.append(item)\n",
    "\n",
    "print(temp)\n"
   ]
  },
  {
   "cell_type": "code",
   "execution_count": 178,
   "metadata": {},
   "outputs": [
    {
     "name": "stdout",
     "output_type": "stream",
     "text": [
      "[10, 20, 30, 40, 50, 60]\n"
     ]
    }
   ],
   "source": [
    "# 20. Write a Python program to extend a list without append.\n",
    "# Sample data: [10, 20, 30]\n",
    "# [40, 50, 60]\n",
    "# Expected output : [40, 50, 60, 10, 20, 30]\n",
    "\n",
    "data = [10, 20, 30]\n",
    "addition = [40, 50, 60]\n",
    "data.extend(addition)\n",
    "print(data)"
   ]
  },
  {
   "cell_type": "code",
   "execution_count": null,
   "metadata": {},
   "outputs": [],
   "source": []
  }
 ],
 "metadata": {
  "kernelspec": {
   "display_name": "base",
   "language": "python",
   "name": "python3"
  },
  "language_info": {
   "codemirror_mode": {
    "name": "ipython",
    "version": 3
   },
   "file_extension": ".py",
   "mimetype": "text/x-python",
   "name": "python",
   "nbconvert_exporter": "python",
   "pygments_lexer": "ipython3",
   "version": "3.12.4"
  }
 },
 "nbformat": 4,
 "nbformat_minor": 2
}
